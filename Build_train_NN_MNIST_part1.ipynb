{
  "nbformat": 4,
  "nbformat_minor": 0,
  "metadata": {
    "colab": {
      "provenance": []
    },
    "kernelspec": {
      "name": "python3",
      "display_name": "Python 3"
    },
    "language_info": {
      "name": "python"
    }
  },
  "cells": [
    {
      "cell_type": "code",
      "execution_count": null,
      "metadata": {
        "id": "1PCwp5isGUwy"
      },
      "outputs": [],
      "source": [
        "import tensorflow as tf\n",
        "import numpy as np\n",
        "import matplotlib.pyplot as plt"
      ]
    },
    {
      "cell_type": "markdown",
      "source": [
        "Size of the image in data set is 28*28 pixels\n",
        "2.number of training images: the training data set contains 60,000 images\n",
        "3.number of testing data images :the testing data contain 10,000 images\n",
        "\n",
        "\n"
      ],
      "metadata": {
        "id": "A-trDYH3csiT"
      }
    },
    {
      "cell_type": "code",
      "source": [
        "mnist = tf.keras.datasets.mnist\n",
        "\n",
        "(x_train, y_train), (x_test, y_test) = mnist.load_data()\n",
        "x_train, x_test = x_train /255.0, x_test / 255.0\n",
        "print(x_train.shape)\n",
        "print(x_test.shape)"
      ],
      "metadata": {
        "colab": {
          "base_uri": "https://localhost:8080/"
        },
        "id": "mxaLw3ouHC1H",
        "outputId": "7e6dfeeb-4065-4936-9016-3deb617f7270"
      },
      "execution_count": null,
      "outputs": [
        {
          "output_type": "stream",
          "name": "stdout",
          "text": [
            "(60000, 28, 28)\n",
            "(10000, 28, 28)\n"
          ]
        }
      ]
    },
    {
      "cell_type": "markdown",
      "source": [
        "1.the flatten layer does not have any parameter to learn.\n",
        "2.the dense layer has 7,850 parameters to learn\n"
      ],
      "metadata": {
        "id": "xdEWkvRIc0U6"
      }
    },
    {
      "cell_type": "code",
      "source": [
        "# Step 3: Build the tf.keras.Sequential model by stacking the following two layers:\n",
        "\n",
        "model = tf.keras.Sequential([\n",
        "    # A. Flatten layer to convert 2D array (28x28) to 1D array (784)\n",
        "    tf.keras.layers.Flatten(input_shape=(28, 28)),\n",
        "\n",
        "    # B. Dense layer with 10 output units (for 10 possible characters)\n",
        "    tf.keras.layers.Dense(10)\n",
        "])\n",
        "\n",
        "# Print the model summary to see the parameters\n",
        "model.summary()\n"
      ],
      "metadata": {
        "colab": {
          "base_uri": "https://localhost:8080/"
        },
        "id": "YbpYJre9Lh1e",
        "outputId": "79b40c49-a605-425f-a34c-8f2440f2d11f"
      },
      "execution_count": null,
      "outputs": [
        {
          "output_type": "stream",
          "name": "stdout",
          "text": [
            "Model: \"sequential\"\n",
            "_________________________________________________________________\n",
            " Layer (type)                Output Shape              Param #   \n",
            "=================================================================\n",
            " flatten (Flatten)           (None, 784)               0         \n",
            "                                                                 \n",
            " dense (Dense)               (None, 10)                7850      \n",
            "                                                                 \n",
            "=================================================================\n",
            "Total params: 7850 (30.66 KB)\n",
            "Trainable params: 7850 (30.66 KB)\n",
            "Non-trainable params: 0 (0.00 Byte)\n",
            "_________________________________________________________________\n"
          ]
        }
      ]
    },
    {
      "cell_type": "markdown",
      "source": [
        "1.the value of the accuracy after 10 epoches will be displayed in the output after running the  training .it is typically around 97-98\n",
        "2.the displayed accuracy value refers to training accuracy\n"
      ],
      "metadata": {
        "id": "hRxfmlX0dLnS"
      }
    },
    {
      "cell_type": "code",
      "source": [
        "# Compile the model\n",
        "model.compile(optimizer='adam',\n",
        "              loss=tf.keras.losses.SparseCategoricalCrossentropy(from_logits=True),\n",
        "              metrics=['accuracy'])\n",
        "\n",
        "# Train the model\n",
        "history = model.fit(x_train, y_train, epochs=10)\n"
      ],
      "metadata": {
        "colab": {
          "base_uri": "https://localhost:8080/"
        },
        "id": "qh3LRNBMOn-q",
        "outputId": "0325a7a1-9fe8-4458-f7c1-86f116d1c3e3"
      },
      "execution_count": null,
      "outputs": [
        {
          "output_type": "stream",
          "name": "stdout",
          "text": [
            "Epoch 1/10\n",
            "1875/1875 [==============================] - 4s 2ms/step - loss: 0.4733 - accuracy: 0.8751\n",
            "Epoch 2/10\n",
            "1875/1875 [==============================] - 3s 2ms/step - loss: 0.3037 - accuracy: 0.9149\n",
            "Epoch 3/10\n",
            "1875/1875 [==============================] - 4s 2ms/step - loss: 0.2835 - accuracy: 0.9209\n",
            "Epoch 4/10\n",
            "1875/1875 [==============================] - 4s 2ms/step - loss: 0.2734 - accuracy: 0.9240\n",
            "Epoch 5/10\n",
            "1875/1875 [==============================] - 3s 2ms/step - loss: 0.2663 - accuracy: 0.9250\n",
            "Epoch 6/10\n",
            "1875/1875 [==============================] - 3s 1ms/step - loss: 0.2617 - accuracy: 0.9274\n",
            "Epoch 7/10\n",
            "1875/1875 [==============================] - 3s 2ms/step - loss: 0.2583 - accuracy: 0.9282\n",
            "Epoch 8/10\n",
            "1875/1875 [==============================] - 3s 2ms/step - loss: 0.2557 - accuracy: 0.9293\n",
            "Epoch 9/10\n",
            "1875/1875 [==============================] - 4s 2ms/step - loss: 0.2529 - accuracy: 0.9302\n",
            "Epoch 10/10\n",
            "1875/1875 [==============================] - 3s 1ms/step - loss: 0.2512 - accuracy: 0.9301\n"
          ]
        }
      ]
    },
    {
      "cell_type": "code",
      "source": [
        "# Step 5: Evaluate the model on the test dataset\n",
        "\n",
        "# Use the model.evaluate method to check the model's performance on the test set\n",
        "test_loss, test_acc = model.evaluate(x_test, y_test, verbose=2)\n",
        "\n",
        "# Print the model's testing accuracy\n",
        "print(f\"\\nTest accuracy: {test_acc}\")\n"
      ],
      "metadata": {
        "colab": {
          "base_uri": "https://localhost:8080/"
        },
        "id": "pUXA13TUN9gH",
        "outputId": "fff065d8-4c43-445d-f852-b4bc258b0378"
      },
      "execution_count": null,
      "outputs": [
        {
          "output_type": "stream",
          "name": "stdout",
          "text": [
            "313/313 - 0s - loss: 0.2626 - accuracy: 0.9285 - 347ms/epoch - 1ms/step\n",
            "\n",
            "Test accuracy: 0.9284999966621399\n"
          ]
        }
      ]
    },
    {
      "cell_type": "markdown",
      "source": [
        "the testing accuracy of model achived is approximately 92.85%"
      ],
      "metadata": {
        "id": "paxyPE6JdTx0"
      }
    },
    {
      "cell_type": "code",
      "source": [
        "# Step 3: Build the tf.keras.Sequential model by stacking the following layers:\n",
        "\n",
        "# Modify the existing model by adding a Dense layer with 392 neurons before the last layer\n",
        "\n",
        "model = tf.keras.Sequential([\n",
        "    # A. Flatten layer to convert 2D array (28x28) to 1D array (784)\n",
        "    tf.keras.layers.Flatten(input_shape=(28, 28)),\n",
        "\n",
        "    # B. Dense layer with 392 neurons and ReLU activation\n",
        "    tf.keras.layers.Dense(392, activation='relu'),\n",
        "\n",
        "    # C. Dense layer with 10 output units (for 10 possible characters)\n",
        "    tf.keras.layers.Dense(10)\n",
        "])\n",
        "\n",
        "# Print the model summary to see the parameters\n",
        "model.summary()\n"
      ],
      "metadata": {
        "colab": {
          "base_uri": "https://localhost:8080/"
        },
        "id": "-ycJRhGSSLaZ",
        "outputId": "d4585557-e725-4683-dda0-73248346b9e8"
      },
      "execution_count": null,
      "outputs": [
        {
          "output_type": "stream",
          "name": "stdout",
          "text": [
            "Model: \"sequential_1\"\n",
            "_________________________________________________________________\n",
            " Layer (type)                Output Shape              Param #   \n",
            "=================================================================\n",
            " flatten_1 (Flatten)         (None, 784)               0         \n",
            "                                                                 \n",
            " dense_1 (Dense)             (None, 392)               307720    \n",
            "                                                                 \n",
            " dense_2 (Dense)             (None, 10)                3930      \n",
            "                                                                 \n",
            "=================================================================\n",
            "Total params: 311650 (1.19 MB)\n",
            "Trainable params: 311650 (1.19 MB)\n",
            "Non-trainable params: 0 (0.00 Byte)\n",
            "_________________________________________________________________\n"
          ]
        }
      ]
    },
    {
      "cell_type": "markdown",
      "source": [
        "the network have total of 412,210 trainable parameters"
      ],
      "metadata": {
        "id": "RuTHaT2_dZMp"
      }
    },
    {
      "cell_type": "markdown",
      "source": [],
      "metadata": {
        "id": "Eb_257uHLhe2"
      }
    },
    {
      "cell_type": "code",
      "source": [
        "# Step 3: Modify the sequential model from Part 2 by adding a \"relu\" activation function\n",
        "# to the Dense layer with 392 neurons.\n",
        "\n",
        "model = tf.keras.Sequential([\n",
        "    # A. Flatten layer to convert 2D array (28x28) to 1D array (784)\n",
        "    tf.keras.layers.Flatten(input_shape=(28, 28)),\n",
        "\n",
        "    # B. Dense layer with 392 neurons and ReLU activation\n",
        "    tf.keras.layers.Dense(392, activation='relu'),  # <-- Adding relu activation here\n",
        "\n",
        "    # C. Dense layer with 10 output units (for 10 possible characters)\n",
        "    tf.keras.layers.Dense(10)\n",
        "])\n",
        "\n",
        "# Print the model summary to see the parameters\n",
        "model.summary()\n"
      ],
      "metadata": {
        "colab": {
          "base_uri": "https://localhost:8080/"
        },
        "id": "9lsrmGglUzuw",
        "outputId": "2bbbde98-78a5-4628-ae53-b4655cc7c586"
      },
      "execution_count": null,
      "outputs": [
        {
          "output_type": "stream",
          "name": "stdout",
          "text": [
            "Model: \"sequential_2\"\n",
            "_________________________________________________________________\n",
            " Layer (type)                Output Shape              Param #   \n",
            "=================================================================\n",
            " flatten_2 (Flatten)         (None, 784)               0         \n",
            "                                                                 \n",
            " dense_3 (Dense)             (None, 392)               307720    \n",
            "                                                                 \n",
            " dense_4 (Dense)             (None, 10)                3930      \n",
            "                                                                 \n",
            "=================================================================\n",
            "Total params: 311650 (1.19 MB)\n",
            "Trainable params: 311650 (1.19 MB)\n",
            "Non-trainable params: 0 (0.00 Byte)\n",
            "_________________________________________________________________\n"
          ]
        }
      ]
    },
    {
      "cell_type": "markdown",
      "source": [],
      "metadata": {
        "id": "mH3N5IhidlF-"
      }
    },
    {
      "cell_type": "markdown",
      "source": [
        "after training the model for 10  epoches the training accuracy typically improves due to increased comlexity of the model with and additional hidden layer. the new training layer higher then before, pottentially approching or exceeding 99% accuracy on the training data. this improvement indicates the model can learn more intricate pattern in the training data"
      ],
      "metadata": {
        "id": "qNv7GoUZdscI"
      }
    },
    {
      "cell_type": "markdown",
      "source": [],
      "metadata": {
        "id": "vtgHbcA7Lhbg"
      }
    }
  ]
}
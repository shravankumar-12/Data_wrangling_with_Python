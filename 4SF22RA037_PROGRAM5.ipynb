{
  "nbformat": 4,
  "nbformat_minor": 0,
  "metadata": {
    "colab": {
      "provenance": [],
      "authorship_tag": "ABX9TyMXCTSfYKwysNUBe5vMpKXx",
      "include_colab_link": true
    },
    "kernelspec": {
      "name": "python3",
      "display_name": "Python 3"
    },
    "language_info": {
      "name": "python"
    }
  },
  "cells": [
    {
      "cell_type": "markdown",
      "metadata": {
        "id": "view-in-github",
        "colab_type": "text"
      },
      "source": [
        "<a href=\"https://colab.research.google.com/github/shravankumar-12/deeplearningwithCV/blob/main/4SF22RA037_PROGRAM5.ipynb\" target=\"_parent\"><img src=\"https://colab.research.google.com/assets/colab-badge.svg\" alt=\"Open In Colab\"/></a>"
      ]
    },
    {
      "cell_type": "markdown",
      "source": [
        "program 5:creat random sample data and perform satatistics test on random data.perform statistical analysis using Scipy library"
      ],
      "metadata": {
        "id": "CtEwj32bZ-_D"
      }
    },
    {
      "cell_type": "code",
      "execution_count": null,
      "metadata": {
        "colab": {
          "base_uri": "https://localhost:8080/"
        },
        "id": "VU-C0rIfMtMS",
        "outputId": "6ae4431f-5c9f-48c0-d019-59242d6ab92c"
      },
      "outputs": [
        {
          "output_type": "stream",
          "name": "stdout",
          "text": [
            "Summary Statistics:\n",
            "Mean: 0.059808015534485\n",
            "Median: 0.09409611943799814\n",
            "Standard Deviation: 1.0078822447165796\n",
            "Minimum: -2.5529898158340787\n",
            "Maximum: 2.2697546239876076\n",
            "\n",
            "T-test:\n",
            "T-statistic: -7.04142736901327\n",
            "P-value: 3.059820094514085e-11\n",
            "\n",
            "ANOVA:\n",
            "F-statistic: 88.00111635520777\n",
            "P-value: 9.708427651972184e-31\n"
          ]
        }
      ],
      "source": [
        "import numpy as np\n",
        "import scipy.stats as stats\n",
        "# Generate some sample data\n",
        "np.random.seed(0)\n",
        "data1 = np.random.normal(loc=0, scale=1, size=100) # Sample data 1 (normal distribution)\n",
        "data2 = np.random.normal(loc=1, scale=1, size=100) # Sample data 2 (normal distribution)\n",
        "# Summary statistics\n",
        "mean_data1 = np.mean(data1)\n",
        "median_data1 = np.median(data1)\n",
        "std_data1 = np.std(data1)\n",
        "min_data1 = np.min(data1)\n",
        "max_data1 = np.max(data1)\n",
        "# Perform t-test\n",
        "t_statistic, p_value = stats.ttest_ind(data1, data2)\n",
        "# Perform ANOVA\n",
        "data3 = np.random.normal(loc=2, scale=1, size=100) # Sample data 3 (normal distribution)\n",
        "anova_statistic, anova_p_value = stats.f_oneway(data1, data2, data3)\n",
        "# Print summary statistics\n",
        "print(\"Summary Statistics:\")\n",
        "print(\"Mean:\", mean_data1)\n",
        "print(\"Median:\", median_data1)\n",
        "print(\"Standard Deviation:\", std_data1)\n",
        "print(\"Minimum:\", min_data1)\n",
        "print(\"Maximum:\", max_data1)\n",
        "# Print t-test results\n",
        "print(\"\\nT-test:\")\n",
        "print(\"T-statistic:\", t_statistic)\n",
        "print(\"P-value:\", p_value)\n",
        "# Print ANOVA results\n",
        "print(\"\\nANOVA:\")\n",
        "print(\"F-statistic:\", anova_statistic)\n",
        "print(\"P-value:\", anova_p_value)"
      ]
    },
    {
      "cell_type": "markdown",
      "source": [
        "In conclusion, the provided Python code demonstrates fundamental statistical analyses using sample data generated from normal distributions. It computes essential summary statistics for one dataset (data1) and performs a two-sample t-test to compare means between data1 and data2.\n",
        "\n",
        "\n"
      ],
      "metadata": {
        "id": "_rPg9BG6awBJ"
      }
    },
    {
      "cell_type": "markdown",
      "source": [],
      "metadata": {
        "id": "laxc5Z89Z8rb"
      }
    }
  ]
}